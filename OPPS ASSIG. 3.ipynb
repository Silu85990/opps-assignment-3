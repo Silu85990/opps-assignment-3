{
 "cells": [
  {
   "cell_type": "code",
   "execution_count": 3,
   "id": "d1faf2bb-057f-44c3-baf9-131a31c76916",
   "metadata": {},
   "outputs": [
    {
     "data": {
      "text/plain": [
       "'In object-oriented programming (OOP), abstraction is a fundamental concept\\nthat allows you to represent complex systems by focusing on the essential aspects\\nand hiding unnecessary details. It is the process of simplifying and organizing \\ncomplex code into manageable units, making it easier to understand and work with.'"
      ]
     },
     "execution_count": 3,
     "metadata": {},
     "output_type": "execute_result"
    }
   ],
   "source": [
    "#Q1_ans\n",
    "\n",
    "\"\"\"In object-oriented programming (OOP), abstraction is a fundamental concept\n",
    "that allows you to represent complex systems by focusing on the essential aspects\n",
    "and hiding unnecessary details. It is the process of simplifying and organizing \n",
    "complex code into manageable units, making it easier to understand and work with.\"\"\" "
   ]
  },
  {
   "cell_type": "code",
   "execution_count": 2,
   "id": "0fece604-7921-4160-a2a6-740a732ccec0",
   "metadata": {},
   "outputs": [
    {
     "data": {
      "text/plain": [
       "'Abstraction and encapsulation are two of the four pillars of object-oriented programming (OOP).\\nThey are both important concepts, but they have different purposes.\\n\\nAbstraction\\nis the process of hiding the implementation details of an object from the user.\\nThis allows the user to focus on the essential features of the object without having\\nto worry about how it works internally.\\n\\nEncapsulation \\nis the process of wrapping up the data and code acting on the data into a single unit.\\nThis allows the data to be protected from unauthorized access and the code to be reused more easily.'"
      ]
     },
     "execution_count": 2,
     "metadata": {},
     "output_type": "execute_result"
    }
   ],
   "source": [
    "#Q2_ans\n",
    "\n",
    "\"\"\"Abstraction and encapsulation are two of the four pillars of object-oriented programming (OOP).\n",
    "They are both important concepts, but they have different purposes.\n",
    "\n",
    "Abstraction\n",
    "is the process of hiding the implementation details of an object from the user.\n",
    "This allows the user to focus on the essential features of the object without having\n",
    "to worry about how it works internally.\n",
    "\n",
    "Encapsulation \n",
    "is the process of wrapping up the data and code acting on the data into a single unit.\n",
    "This allows the data to be protected from unauthorized access and the code to be reused more easily.\"\"\""
   ]
  },
  {
   "cell_type": "code",
   "execution_count": 4,
   "id": "c475c877-3209-48a8-ae8d-d514bc1a2736",
   "metadata": {},
   "outputs": [
    {
     "name": "stdout",
     "output_type": "stream",
     "text": [
      "25\n"
     ]
    }
   ],
   "source": [
    "#Q3_Ans\n",
    "\n",
    "\"\"\"In Python, the abc module refers to the Abstract Base Classes module.\n",
    "It provides a way to define abstract base classes in Python.\n",
    "An abstract base class is a class that cannot be instantiated directly but serves as\n",
    "a blueprint for its subclasses. The abc module is part of the standard library and is used \n",
    "to implement and work with abstract base classes.\"\"\"\n",
    "\n",
    "\n",
    "from abc import ABC, abstractmethod\n",
    "\n",
    "class Shape(ABC):\n",
    "    @abstractmethod\n",
    "    def area(self):\n",
    "        pass\n",
    "\n",
    "class Square(Shape):\n",
    "    def __init__(self, side):\n",
    "        self.side = side\n",
    "\n",
    "    def area(self):\n",
    "        return self.side * self.side\n",
    "\n",
    "square = Square(5)\n",
    "print(square.area())"
   ]
  },
  {
   "cell_type": "code",
   "execution_count": 5,
   "id": "88e8fd63-ec84-4bc5-9b9f-beb6066d816a",
   "metadata": {},
   "outputs": [
    {
     "data": {
      "text/plain": [
       "'Data abstraction is a process of hiding the implementation details of an object from the user.\\nThis allows the user to focus on the essential features of the object without having \\nto worry about how it works internally.\\n\\nThere are two main ways to achieve data abstraction in Python:\\n\\nAbstract classes: An abstract class is a class that cannot be instantiated. \\nIt is used to define the common features of a group of objects.\\n\\nInterfaces: An interface is a contract that defines the methods that a class must implement.'"
      ]
     },
     "execution_count": 5,
     "metadata": {},
     "output_type": "execute_result"
    }
   ],
   "source": [
    "#Q4_Ans\n",
    "\n",
    "\"\"\"Data abstraction is a process of hiding the implementation details of an object from the user.\n",
    "This allows the user to focus on the essential features of the object without having \n",
    "to worry about how it works internally.\n",
    "\n",
    "There are two main ways to achieve data abstraction in Python:\n",
    "\n",
    "Abstract classes: An abstract class is a class that cannot be instantiated. \n",
    "It is used to define the common features of a group of objects.\n",
    "\n",
    "Interfaces: An interface is a contract that defines the methods that a class must implement.\"\"\"\n"
   ]
  },
  {
   "cell_type": "code",
   "execution_count": 6,
   "id": "6c44a0cc-607b-494e-9694-45d8a7f2ca0f",
   "metadata": {},
   "outputs": [
    {
     "ename": "TypeError",
     "evalue": "Can't instantiate abstract class AbstractClass with abstract method abstract_method",
     "output_type": "error",
     "traceback": [
      "\u001b[0;31m---------------------------------------------------------------------------\u001b[0m",
      "\u001b[0;31mTypeError\u001b[0m                                 Traceback (most recent call last)",
      "Cell \u001b[0;32mIn[6], line 14\u001b[0m\n\u001b[1;32m     11\u001b[0m     \u001b[38;5;129m@abstractmethod\u001b[39m\n\u001b[1;32m     12\u001b[0m     \u001b[38;5;28;01mdef\u001b[39;00m \u001b[38;5;21mabstract_method\u001b[39m(\u001b[38;5;28mself\u001b[39m):\n\u001b[1;32m     13\u001b[0m         \u001b[38;5;28;01mpass\u001b[39;00m\n\u001b[0;32m---> 14\u001b[0m instance \u001b[38;5;241m=\u001b[39m \u001b[43mAbstractClass\u001b[49m\u001b[43m(\u001b[49m\u001b[43m)\u001b[49m  \n",
      "\u001b[0;31mTypeError\u001b[0m: Can't instantiate abstract class AbstractClass with abstract method abstract_method"
     ]
    }
   ],
   "source": [
    "#Q5_ans\n",
    "\n",
    "\"\"\"No, we cannot create an instance of an abstract class in Python.\n",
    "An abstract class is a class that cannot be instantiated.\n",
    "This is because abstract classes are used to define the common features of a group of classes.\n",
    "They are not meant to be used to create individual objects.\"\"\"\n",
    "\n",
    "from abc import ABC, abstractmethod\n",
    "\n",
    "class AbstractClass(ABC):\n",
    "    @abstractmethod\n",
    "    def abstract_method(self):\n",
    "        pass\n",
    "instance = AbstractClass()  \n",
    "\n"
   ]
  },
  {
   "cell_type": "code",
   "execution_count": null,
   "id": "46b5511c-7047-4279-88cf-d6b6d2e16d54",
   "metadata": {},
   "outputs": [],
   "source": []
  }
 ],
 "metadata": {
  "kernelspec": {
   "display_name": "Python 3 (ipykernel)",
   "language": "python",
   "name": "python3"
  },
  "language_info": {
   "codemirror_mode": {
    "name": "ipython",
    "version": 3
   },
   "file_extension": ".py",
   "mimetype": "text/x-python",
   "name": "python",
   "nbconvert_exporter": "python",
   "pygments_lexer": "ipython3",
   "version": "3.10.8"
  }
 },
 "nbformat": 4,
 "nbformat_minor": 5
}
